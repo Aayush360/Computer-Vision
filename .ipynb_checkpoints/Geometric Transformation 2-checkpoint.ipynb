{
 "cells": [
  {
   "cell_type": "markdown",
   "id": "678550b2",
   "metadata": {},
   "source": [
    "### Rotation"
   ]
  },
  {
   "cell_type": "code",
   "execution_count": 6,
   "id": "7eec6f1b",
   "metadata": {},
   "outputs": [],
   "source": [
    "import numpy as np\n",
    "import matplotlib.pyplot as plt\n",
    "import cv2"
   ]
  },
  {
   "cell_type": "code",
   "execution_count": 70,
   "id": "7ce2f74c",
   "metadata": {},
   "outputs": [],
   "source": [
    "def bilinear(r,c,img):\n",
    "    '''\n",
    "    r: candidate row location\n",
    "    c: candidate column location\n",
    "    img: grayscale source image\n",
    "    \n",
    "    '''\n",
    "    \n",
    "    # check for boundary location\n",
    "    \n",
    "    \n",
    "    lc = int(c)\n",
    "    rc = lc+1\n",
    "\n",
    "    tr = int(r)\n",
    "    br = tr+1\n",
    "\n",
    "    # weight for right and left\n",
    "    r_wt = c-lc\n",
    "    l_wt = rc-c\n",
    "\n",
    "    # weight for top and bottom\n",
    "    t_wt = br-r\n",
    "    b_wt = r-tr\n",
    "    \n",
    "    if tr>=0 and br< img.shape[0] and lc>=0 and rc< img.shape[1]:\n",
    "\n",
    "        a = l_wt*img[tr,lc]+r_wt*img[tr,rc]\n",
    "\n",
    "        b = l_wt*img[br,lc]+r_wt*img[br,rc]\n",
    "\n",
    "    # final intensity\n",
    "        c = a*t_wt+b*b_wt\n",
    "\n",
    "        return np.uint8(c)\n",
    "   \n",
    "    else:\n",
    "        \n",
    "        return 0    \n",
    "        "
   ]
  },
  {
   "cell_type": "code",
   "execution_count": 68,
   "id": "e31e1cd6",
   "metadata": {},
   "outputs": [],
   "source": [
    "import matplotlib as mpl\n",
    "\n",
    "\n",
    "def dispalyImgInActualSize(img):\n",
    "    dpi = mpl.rcParams['figure.dpi']\n",
    "    H,W = img.shape # num_rows,num_cols\n",
    "    \n",
    "    # What size does the figure need to be in inches to fit the image?\n",
    "    figsize = W/float(dpi), H/float(dpi) #gives figure size in inches\n",
    "    \n",
    "    # Create a figure of the right size with one axes that takes up the full figure\n",
    "    fig = plt.figure(figsize = figsize)\n",
    "    ax = fig.add_axes([0,0,1,1]) # fitting original image into the axes\n",
    "    \n",
    "    # Hide spines, ticks, etc.\n",
    "    ax.axis('off')\n",
    "    \n",
    "    # display the image\n",
    "    ax.imshow(img,cmap='gray')\n",
    "    plt.show"
   ]
  },
  {
   "cell_type": "code",
   "execution_count": 1,
   "id": "8d117ba6",
   "metadata": {},
   "outputs": [],
   "source": [
    "# let us consider an angle to be 45 \n",
    "\n",
    "a = 45"
   ]
  },
  {
   "cell_type": "code",
   "execution_count": 26,
   "id": "fcd8936e",
   "metadata": {},
   "outputs": [],
   "source": [
    "cos_a = np.cos(np.deg2rad(a))\n",
    "sin_a = np.sin(np.deg2rad(a))"
   ]
  },
  {
   "cell_type": "code",
   "execution_count": 27,
   "id": "6432a1ba",
   "metadata": {},
   "outputs": [
    {
     "data": {
      "text/plain": [
       "array([[ 0.70710678, -0.70710678],\n",
       "       [ 0.70710678,  0.70710678]])"
      ]
     },
     "execution_count": 27,
     "metadata": {},
     "output_type": "execute_result"
    }
   ],
   "source": [
    "rot_mat = np.array([[cos_a,-sin_a],[sin_a,cos_a]])\n",
    "rot_mat"
   ]
  },
  {
   "cell_type": "code",
   "execution_count": 28,
   "id": "6bc3969a",
   "metadata": {},
   "outputs": [],
   "source": [
    "# reading an image\n",
    "\n",
    "img=plt.imread('./images/lena.jpg')"
   ]
  },
  {
   "cell_type": "code",
   "execution_count": 29,
   "id": "d30863a4",
   "metadata": {},
   "outputs": [
    {
     "data": {
      "text/plain": [
       "(225, 225)"
      ]
     },
     "execution_count": 29,
     "metadata": {},
     "output_type": "execute_result"
    }
   ],
   "source": [
    "img.shape"
   ]
  },
  {
   "cell_type": "code",
   "execution_count": 65,
   "id": "d160a713",
   "metadata": {},
   "outputs": [],
   "source": [
    "num_rows = img.shape[0]\n",
    "num_cols = img.shape[1]"
   ]
  },
  {
   "cell_type": "code",
   "execution_count": 30,
   "id": "877e63b2",
   "metadata": {},
   "outputs": [],
   "source": [
    "r_max = img.shape[0]\n",
    "c_max = img.shape[1]"
   ]
  },
  {
   "cell_type": "code",
   "execution_count": 32,
   "id": "44f5b389",
   "metadata": {},
   "outputs": [
    {
     "data": {
      "text/plain": [
       "array([[  0,   0],\n",
       "       [224,   0],\n",
       "       [  0, 224],\n",
       "       [224, 224]])"
      ]
     },
     "execution_count": 32,
     "metadata": {},
     "output_type": "execute_result"
    }
   ],
   "source": [
    "# defining a matrix of the same size as the original image\n",
    "\n",
    "init_coord = np.array([[0,0],[r_max-1,0],[0,c_max-1],[r_max-1,c_max-1]])\n",
    "init_coord"
   ]
  },
  {
   "cell_type": "code",
   "execution_count": 12,
   "id": "57888cb0",
   "metadata": {},
   "outputs": [],
   "source": [
    "# applying the rotation matrix on the end coordinates of the image"
   ]
  },
  {
   "cell_type": "code",
   "execution_count": 13,
   "id": "18ddf6d2",
   "metadata": {},
   "outputs": [
    {
     "data": {
      "text/plain": [
       "(4, 2)"
      ]
     },
     "execution_count": 13,
     "metadata": {},
     "output_type": "execute_result"
    }
   ],
   "source": [
    "mat.shape"
   ]
  },
  {
   "cell_type": "code",
   "execution_count": 14,
   "id": "23565317",
   "metadata": {},
   "outputs": [
    {
     "data": {
      "text/plain": [
       "(2, 2)"
      ]
     },
     "execution_count": 14,
     "metadata": {},
     "output_type": "execute_result"
    }
   ],
   "source": [
    "rot_mat.shape"
   ]
  },
  {
   "cell_type": "code",
   "execution_count": 85,
   "id": "6b7395e9",
   "metadata": {},
   "outputs": [
    {
     "name": "stdout",
     "output_type": "stream",
     "text": [
      "max is  [158.39191899 316.78383797]\n",
      "min is  [-158.39191899    0.        ]\n",
      "min rows is:  -159\n",
      "min cols is  0\n",
      "max row is:  158\n",
      "max col is:  316\n"
     ]
    }
   ],
   "source": [
    "# final_coord=init_coord.dot(rot_mat)\n",
    "final_coord = rot_mat.dot(init_coord.T)\n",
    "\n",
    "mins= final_coord.min(axis=1)\n",
    "maxs = final_coord.max(axis=1)\n",
    "print('max is ', maxs)\n",
    "print('min is ', mins)\n",
    "\n",
    "min_rows = np.int64(np.floor(mins[0]))\n",
    "min_cols = np.int64(np.floor(mins[1]))\n",
    "\n",
    "max_rows=np.int64(np.floor(maxs[0]))\n",
    "max_cols=np.int64(np.floor(maxs[1]))\n",
    "\n",
    "\n",
    "print('min rows is: ', min_rows)\n",
    "print('min cols is ', min_cols)\n",
    "\n",
    "print('max row is: ', max_rows)\n",
    "print('max col is: ', max_cols)"
   ]
  },
  {
   "cell_type": "code",
   "execution_count": 80,
   "id": "5698153a",
   "metadata": {},
   "outputs": [
    {
     "data": {
      "text/plain": [
       "array([[ 0.00000000e+00,  1.58391919e+02, -1.58391919e+02,\n",
       "         2.84217094e-14],\n",
       "       [ 0.00000000e+00,  1.58391919e+02,  1.58391919e+02,\n",
       "         3.16783838e+02]])"
      ]
     },
     "execution_count": 80,
     "metadata": {},
     "output_type": "execute_result"
    }
   ],
   "source": [
    "final_coord"
   ]
  },
  {
   "cell_type": "code",
   "execution_count": 53,
   "id": "990c0492",
   "metadata": {},
   "outputs": [],
   "source": [
    "min_val=final_coord.min(axis=0)\n",
    "max_val = final_coord.max(axis=0)"
   ]
  },
  {
   "cell_type": "code",
   "execution_count": 54,
   "id": "2a796b6b",
   "metadata": {},
   "outputs": [],
   "source": [
    "min_row = min_val[0]\n",
    "min_col = min_val[1]\n",
    "\n",
    "max_row,max_col = max_val[0],max_val[1]"
   ]
  },
  {
   "cell_type": "code",
   "execution_count": 55,
   "id": "65f90706",
   "metadata": {},
   "outputs": [
    {
     "name": "stdout",
     "output_type": "stream",
     "text": [
      " minimum value of the column is: -158.39191898578662\n",
      " maximum value of the column is: 158.39191898578665\n"
     ]
    }
   ],
   "source": [
    "print(' minimum value of the column is:', min_col)\n",
    "print(' maximum value of the column is:', max_col)"
   ]
  },
  {
   "cell_type": "code",
   "execution_count": 56,
   "id": "df826663",
   "metadata": {},
   "outputs": [
    {
     "name": "stdout",
     "output_type": "stream",
     "text": [
      " minimum value of the row is: 0.0\n",
      " maximum value of the row is: 316.78383797157323\n"
     ]
    }
   ],
   "source": [
    "print(' minimum value of the row is:', min_row)\n",
    "print(' maximum value of the row is:', max_row)"
   ]
  },
  {
   "cell_type": "code",
   "execution_count": 58,
   "id": "cb059342",
   "metadata": {},
   "outputs": [],
   "source": [
    "# but we have to convert these values to integer \n",
    "\n",
    "min_row = np.int64(np.floor(min_val[0]))\n",
    "min_col = np.int64(np.floor(min_val[1]))\n",
    "\n",
    "max_row,max_col = np.int64(np.ceil(max_val[0])),np.int64(np.ceil(max_val[1]))"
   ]
  },
  {
   "cell_type": "code",
   "execution_count": 60,
   "id": "518c6bc9",
   "metadata": {},
   "outputs": [
    {
     "name": "stdout",
     "output_type": "stream",
     "text": [
      " minimum value of the column is: -159\n",
      " maximum value of the column is: 159\n",
      " minimum value of the row is: 0\n",
      " maximum value of the row is: 317\n"
     ]
    }
   ],
   "source": [
    "print(' minimum value of the column is:', min_col)\n",
    "print(' maximum value of the column is:', max_col)\n",
    "\n",
    "print(' minimum value of the row is:', min_row)\n",
    "print(' maximum value of the row is:', max_row)"
   ]
  },
  {
   "cell_type": "code",
   "execution_count": 61,
   "id": "7827f578",
   "metadata": {},
   "outputs": [],
   "source": [
    "# to compute the height of the image\n",
    "H = max_row-min_row+1\n",
    "W = max_col-min_col+1"
   ]
  },
  {
   "cell_type": "code",
   "execution_count": 62,
   "id": "ef106cd9",
   "metadata": {},
   "outputs": [],
   "source": [
    "# defining the resulatant image\n",
    "\n",
    "img_res = np.zeros((H,W),dtype='uint8')\n"
   ]
  },
  {
   "cell_type": "code",
   "execution_count": 63,
   "id": "14b49129",
   "metadata": {},
   "outputs": [
    {
     "data": {
      "text/plain": [
       "(318, 319)"
      ]
     },
     "execution_count": 63,
     "metadata": {},
     "output_type": "execute_result"
    }
   ],
   "source": [
    "img_res.shape"
   ]
  },
  {
   "cell_type": "code",
   "execution_count": 94,
   "id": "34f04b6c",
   "metadata": {},
   "outputs": [],
   "source": [
    "# defining the inverse transform\n",
    "\n",
    "Tinv = np.linalg.inv(rot_mat)\n",
    "\n",
    "for new_i in range(min_rows,max_rows):\n",
    "    for new_j in range(min_cols,max_cols):\n",
    "        p_dash = np.array([new_i,new_j])\n",
    "        p = Tinv.dot(p_dash) # find corresponding coordinate in original image from the transformed image\n",
    "        i,j = p[0],p[1]\n",
    "        \n",
    "        if i<0 or i>num_rows or j <0 or j>num_cols:\n",
    "            pass\n",
    "        else:\n",
    "            g=bilinear(i,j,img)\n",
    "        img_res[new_i-min_rows,new_j-min_cols]=g\n",
    "            \n",
    "            \n",
    "            \n",
    "            "
   ]
  },
  {
   "cell_type": "code",
   "execution_count": 95,
   "id": "a9945cc3",
   "metadata": {},
   "outputs": [
    {
     "data": {
      "image/png": "[encoded data removed]",
      "text/plain": [
       "<Figure size 319x318 with 1 Axes>"
      ]
     },
     "metadata": {
      "needs_background": "light"
     },
     "output_type": "display_data"
    }
   ],
   "source": [
    "dispalyImgInActualSize(img_res)"
   ]
  },
  {
   "cell_type": "code",
   "execution_count": 96,
   "id": "7f808eca",
   "metadata": {},
   "outputs": [],
   "source": [
    "def get_extents(img,rot_mat):\n",
    "    '''\n",
    "    input:\n",
    "    -----------------------------------------------------\n",
    "    img: original grayscale image that needs to be rotated\n",
    "    rot_mat: rotation matrix that does the rotation\n",
    "    \n",
    "    output:\n",
    "    -------------------------------------------------------\n",
    "    returns the minimum and maximum of the output image coordinates\n",
    "\n",
    "    '''\n",
    "    \n",
    "    "
   ]
  },
  {
   "cell_type": "code",
   "execution_count": null,
   "id": "eeba2821",
   "metadata": {},
   "outputs": [],
   "source": []
  }
 ],
 "metadata": {
  "kernelspec": {
   "display_name": "Python 3",
   "language": "python",
   "name": "python3"
  },
  "language_info": {
   "codemirror_mode": {
    "name": "ipython",
    "version": 3
   },
   "file_extension": ".py",
   "mimetype": "text/x-python",
   "name": "python",
   "nbconvert_exporter": "python",
   "pygments_lexer": "ipython3",
   "version": "3.7.10"
  }
 },
 "nbformat": 4,
 "nbformat_minor": 5
}
